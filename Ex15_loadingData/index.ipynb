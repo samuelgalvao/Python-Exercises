{
 "cells": [
  {
   "cell_type": "code",
   "execution_count": 31,
   "metadata": {},
   "outputs": [
    {
     "name": "stdout",
     "output_type": "stream",
     "text": [
      "C:\\Users\\Samuel\\Documents\\DATA_FOR_PYTHON\\covid-19-country-statistics-dataset.csv\n"
     ]
    }
   ],
   "source": [
    "import numpy as np\n",
    "import pandas as pd\n",
    "import pickle\n",
    "\n",
    "file = r\"C:\\Users\\Samuel\\Documents\\DATA_FOR_PYTHON\\covid-19-country-statistics-dataset.csv\"\n",
    "\n",
    "df = pd.read_csv(file)\n",
    "df2 = df[[\"Country\", \"Total Cases\", \"Total Deaths\"]]\n",
    "data2 = df2.to_numpy()\n",
    "\n",
    "# data = df.to_numpy()\n",
    "\n"
   ]
  }
 ],
 "metadata": {
  "kernelspec": {
   "display_name": "Python 3",
   "language": "python",
   "name": "python3"
  },
  "language_info": {
   "codemirror_mode": {
    "name": "ipython",
    "version": 3
   },
   "file_extension": ".py",
   "mimetype": "text/x-python",
   "name": "python",
   "nbconvert_exporter": "python",
   "pygments_lexer": "ipython3",
   "version": "3.11.3"
  },
  "orig_nbformat": 4
 },
 "nbformat": 4,
 "nbformat_minor": 2
}
